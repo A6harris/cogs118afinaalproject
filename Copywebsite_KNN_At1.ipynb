{
 "cells": [
  {
   "cell_type": "code",
   "execution_count": 5,
   "metadata": {},
   "outputs": [],
   "source": [
    "import numpy as np\n",
    "import pandas as pd\n",
    "from sklearn.neighbors import KNeighborsClassifier\n",
    "from sklearn.model_selection import train_test_split, GridSearchCV\n",
    "from sklearn.preprocessing import StandardScaler\n",
    "from sklearn.metrics import accuracy_score, classification_report, confusion_matrix\n",
    "from sklearn.model_selection import cross_val_score\n",
    "import matplotlib.pyplot as plt\n",
    "import seaborn as sns\n",
    "from sklearn.model_selection import cross_val_score, KFold\n",
    "from statistics import mean, stdev\n",
    "from scipy.io import arff"
   ]
  },
  {
   "cell_type": "code",
   "execution_count": 6,
   "metadata": {},
   "outputs": [
    {
     "name": "stdout",
     "output_type": "stream",
     "text": [
      "Dataset Shape: (1353, 10)\n",
      "\n",
      "First few rows:\n",
      "   SFH  popUpWidnow  SSLfinal_State  Request_URL  URL_of_Anchor  web_traffic  \\\n",
      "0    1           -1               1           -1             -1            1   \n",
      "1   -1           -1              -1           -1             -1            0   \n",
      "2    1           -1               0            0             -1            0   \n",
      "3    1            0               1           -1             -1            0   \n",
      "4   -1           -1               1           -1              0            0   \n",
      "\n",
      "   URL_Length  age_of_domain  having_IP_Address  Result  \n",
      "0           1              1                  0       0  \n",
      "1           1              1                  1       1  \n",
      "2          -1              1                  0       1  \n",
      "3           1              1                  0       0  \n",
      "4          -1              1                  0       1  \n"
     ]
    }
   ],
   "source": [
    "\n",
    "# Load and prepare the data\n",
    "data, meta = arff.loadarff('PhishingData.arff')  # Fixed 'ata' to 'data'\n",
    "df = pd.DataFrame(data)\n",
    "\n",
    "for column in df.columns:\n",
    "    df[column] = df[column].astype(str).str.replace(\"b'\", \"\").str.replace(\"'\", \"\").astype(int)\n",
    "    \n",
    "# Display first few rows and basic information\n",
    "print(\"Dataset Shape:\", df.shape)\n",
    "print(\"\\nFirst few rows:\")\n",
    "print(df.head())"
   ]
  },
  {
   "cell_type": "code",
   "execution_count": 7,
   "metadata": {},
   "outputs": [
    {
     "data": {
      "text/plain": [
       "SFH                  int64\n",
       "popUpWidnow          int64\n",
       "SSLfinal_State       int64\n",
       "Request_URL          int64\n",
       "URL_of_Anchor        int64\n",
       "web_traffic          int64\n",
       "URL_Length           int64\n",
       "age_of_domain        int64\n",
       "having_IP_Address    int64\n",
       "Result               int64\n",
       "dtype: object"
      ]
     },
     "execution_count": 7,
     "metadata": {},
     "output_type": "execute_result"
    }
   ],
   "source": [
    "df.dtypes\n"
   ]
  },
  {
   "cell_type": "code",
   "execution_count": 8,
   "metadata": {},
   "outputs": [],
   "source": [
    "# Cell [3] - Prepare Features and Target\n",
    "# Prepare features and target\n",
    "X = df.drop('Result', axis=1)\n",
    "y = df['Result']\n",
    "\n",
    "# Define partition ratios\n",
    "partition_ratios = [\n",
    "    (0.2, 0.8),  # 20/80\n",
    "    (0.5, 0.5),  # 50/50\n",
    "    (0.8, 0.2)   # 80/20\n",
    "]\n",
    "\n",
    "# Define hyperparameter search space\n",
    "param_grid = {\n",
    "    'n_neighbors': list(range(1, 31, 2))  # Testing odd numbers from 1 to 30\n",
    "}"
   ]
  },
  {
   "cell_type": "code",
   "execution_count": 9,
   "metadata": {},
   "outputs": [],
   "source": [
    "# Cell [4] - Define Trial Function\n",
    "def run_trial(X, y, train_size, random_state):\n",
    "    # Split data\n",
    "    X_train, X_test, y_train, y_test = train_test_split(\n",
    "        X, y, train_size=train_size, random_state=random_state)\n",
    "    \n",
    "    # Scale features\n",
    "    scaler = StandardScaler()\n",
    "    X_train_scaled = scaler.fit_transform(X_train)\n",
    "    X_test_scaled = scaler.transform(X_test)\n",
    "    \n",
    "    # Initialize cross-validation\n",
    "    kf = KFold(n_splits=5, shuffle=True, random_state=random_state)\n",
    "    \n",
    "    # Find best k using GridSearchCV\n",
    "    knn = KNeighborsClassifier()\n",
    "    grid_search = GridSearchCV(\n",
    "        knn,\n",
    "        param_grid,\n",
    "        cv=kf,\n",
    "        scoring='accuracy',\n",
    "        n_jobs=-1\n",
    "    )\n",
    "    \n",
    "    # Fit the model\n",
    "    grid_search.fit(X_train_scaled, y_train)\n",
    "    \n",
    "    # Get best model\n",
    "    best_knn = grid_search.best_estimator_\n",
    "    \n",
    "    # Get scores\n",
    "    train_score = best_knn.score(X_train_scaled, y_train)\n",
    "    test_score = best_knn.score(X_test_scaled, y_test)\n",
    "    val_scores = cross_val_score(best_knn, X_train_scaled, y_train, cv=kf)\n",
    "    \n",
    "    return {\n",
    "        'train_score': train_score,\n",
    "        'validation_score': mean(val_scores),\n",
    "        'test_score': test_score,\n",
    "        'best_params': grid_search.best_params_\n",
    "    }\n"
   ]
  },
  {
   "cell_type": "code",
   "execution_count": 10,
   "metadata": {},
   "outputs": [
    {
     "name": "stdout",
     "output_type": "stream",
     "text": [
      "\n",
      "Running experiments for 20/80 split\n",
      "Trial 1/3...\n",
      "Trial 2/3...\n",
      "Trial 3/3...\n",
      "\n",
      "Running experiments for 50/50 split\n",
      "Trial 1/3...\n",
      "Trial 2/3...\n",
      "Trial 3/3...\n",
      "\n",
      "Running experiments for 80/20 split\n",
      "Trial 1/3...\n",
      "Trial 2/3...\n",
      "Trial 3/3...\n"
     ]
    }
   ],
   "source": [
    "# Cell [5] - Run Experiments\n",
    "# Run experiments for each partition ratio\n",
    "results = {}\n",
    "for train_size, test_size in partition_ratios:\n",
    "    ratio_results = []\n",
    "    print(f\"\\nRunning experiments for {train_size*100:.0f}/{test_size*100:.0f} split\")\n",
    "    \n",
    "    for trial in range(3):\n",
    "        print(f\"Trial {trial + 1}/3...\")\n",
    "        trial_results = run_trial(X, y, train_size, random_state=42+trial)\n",
    "        ratio_results.append(trial_results)\n",
    "    \n",
    "    # Calculate averages\n",
    "    avg_results = {\n",
    "        'avg_train_score': mean([r['train_score'] for r in ratio_results]),\n",
    "        'avg_validation_score': mean([r['validation_score'] for r in ratio_results]),\n",
    "        'avg_test_score': mean([r['test_score'] for r in ratio_results]),\n",
    "        'std_train_score': stdev([r['train_score'] for r in ratio_results]),\n",
    "        'std_validation_score': stdev([r['validation_score'] for r in ratio_results]),\n",
    "        'std_test_score': stdev([r['test_score'] for r in ratio_results]),\n",
    "        'individual_trials': ratio_results\n",
    "    }\n",
    "    \n",
    "    results[f\"{train_size*100:.0f}/{test_size*100:.0f}\"] = avg_results"
   ]
  },
  {
   "cell_type": "code",
   "execution_count": 11,
   "metadata": {},
   "outputs": [
    {
     "name": "stdout",
     "output_type": "stream",
     "text": [
      "\n",
      "Results for 20/80 split:\n",
      "Average Training Score: 0.8765 ± 0.0154\n",
      "Average Validation Score: 0.8333 ± 0.0259\n",
      "Average Test Score: 0.8101 ± 0.0208\n",
      "\n",
      "Best parameters for each trial:\n",
      "Trial 1: {'n_neighbors': 5}\n",
      "Trial 2: {'n_neighbors': 3}\n",
      "Trial 3: {'n_neighbors': 3}\n",
      "\n",
      "Results for 50/50 split:\n",
      "Average Training Score: 0.8733 ± 0.0104\n",
      "Average Validation Score: 0.8496 ± 0.0074\n",
      "Average Test Score: 0.8282 ± 0.0332\n",
      "\n",
      "Best parameters for each trial:\n",
      "Trial 1: {'n_neighbors': 5}\n",
      "Trial 2: {'n_neighbors': 9}\n",
      "Trial 3: {'n_neighbors': 11}\n",
      "\n",
      "Results for 80/20 split:\n",
      "Average Training Score: 0.8891 ± 0.0107\n",
      "Average Validation Score: 0.8558 ± 0.0037\n",
      "Average Test Score: 0.8413 ± 0.0224\n",
      "\n",
      "Best parameters for each trial:\n",
      "Trial 1: {'n_neighbors': 5}\n",
      "Trial 2: {'n_neighbors': 9}\n",
      "Trial 3: {'n_neighbors': 7}\n"
     ]
    }
   ],
   "source": [
    "# Cell [6] - Print Results\n",
    "# Print results\n",
    "for split, res in results.items():\n",
    "    print(f\"\\nResults for {split} split:\")\n",
    "    print(f\"Average Training Score: {res['avg_train_score']:.4f} ± {res['std_train_score']:.4f}\")\n",
    "    print(f\"Average Validation Score: {res['avg_validation_score']:.4f} ± {res['std_validation_score']:.4f}\")\n",
    "    print(f\"Average Test Score: {res['avg_test_score']:.4f} ± {res['std_test_score']:.4f}\")\n",
    "    \n",
    "    # Print best parameters for each trial\n",
    "    print(\"\\nBest parameters for each trial:\")\n",
    "    for i, trial in enumerate(res['individual_trials']):\n",
    "        print(f\"Trial {i+1}: {trial['best_params']}\")"
   ]
  },
  {
   "cell_type": "code",
   "execution_count": null,
   "metadata": {},
   "outputs": [],
   "source": []
  }
 ],
 "metadata": {
  "kernelspec": {
   "display_name": "Python 3",
   "language": "python",
   "name": "python3"
  },
  "language_info": {
   "codemirror_mode": {
    "name": "ipython",
    "version": 3
   },
   "file_extension": ".py",
   "mimetype": "text/x-python",
   "name": "python",
   "nbconvert_exporter": "python",
   "pygments_lexer": "ipython3",
   "version": "3.12.4"
  }
 },
 "nbformat": 4,
 "nbformat_minor": 2
}
