{
 "cells": [
  {
   "cell_type": "code",
   "execution_count": 8,
   "metadata": {},
   "outputs": [],
   "source": [
    "# Data Processing\n",
    "import pandas as pd\n",
    "import numpy as np\n",
    "\n",
    "# Modelling\n",
    "from sklearn.ensemble import RandomForestClassifier\n",
    "from sklearn.metrics import accuracy_score, confusion_matrix, precision_score, recall_score, ConfusionMatrixDisplay\n",
    "from sklearn.model_selection import RandomizedSearchCV, train_test_split\n",
    "from scipy.stats import randint\n",
    "\n",
    "# Tree Visualisation\n",
    "from sklearn.tree import export_graphviz\n",
    "from IPython.display import Image\n",
    "import graphviz\n",
    "from sklearn.preprocessing import StandardScaler\n",
    "from sklearn.model_selection import cross_val_score, KFold\n",
    "from statistics import mean, stdev\n"
   ]
  },
  {
   "cell_type": "code",
   "execution_count": 9,
   "metadata": {},
   "outputs": [],
   "source": [
    "URLdataOG = pd.read_csv(r\"C:\\Users\\Aden\\Desktop\\Phishing URL RF\\URL Phishing\\PhiUSIIL_Phishing_URL_Dataset.csv\")\n",
    "\n",
    "\n",
    "URLdataOG.head()\n",
    "URLdata = URLdataOG.copy()"
   ]
  },
  {
   "cell_type": "code",
   "execution_count": 10,
   "metadata": {},
   "outputs": [],
   "source": [
    "# Select pre-load features\n",
    "pre_load_features = [\n",
    "    'URLLength',\n",
    "    'DomainLength',\n",
    "    'NoOfDegitsInURL',\n",
    "    'NoOfLettersInURL',\n",
    "    'NoOfSubDomain',\n",
    "    'TLDLength',\n",
    "    'NoOfEqualsInURL',\n",
    "    'NoOfQMarkInURL',\n",
    "    'NoOfAmpersandInURL'        # Can check from URL\n",
    "]"
   ]
  },
  {
   "cell_type": "code",
   "execution_count": 11,
   "metadata": {},
   "outputs": [],
   "source": [
    "X = URLdata[pre_load_features]  # Select only the pre-load features\n",
    "y = URLdata['label']  "
   ]
  },
  {
   "cell_type": "code",
   "execution_count": 12,
   "metadata": {},
   "outputs": [],
   "source": [
    "# Use original features and labels directly\n",
    "X = URLdata[pre_load_features]\n",
    "y = URLdata['label']\n",
    "\n",
    "# Define partition ratios\n",
    "partition_ratios = [\n",
    "    (0.2, 0.8),  # 20/80\n",
    "    (0.5, 0.5),  # 50/50\n",
    "    (0.8, 0.2)   # 80/20\n",
    "]\n",
    "\n",
    "# Define hyperparameter search space\n",
    "param_dist = {\n",
    "    'n_estimators': randint(50, 200),\n",
    "    'max_depth': randint(5, 20),\n",
    "    'min_samples_split': randint(2, 10),\n",
    "    'min_samples_leaf': randint(1, 5)\n",
    "}"
   ]
  },
  {
   "cell_type": "code",
   "execution_count": 13,
   "metadata": {},
   "outputs": [],
   "source": [
    "def run_trial(X, y, train_size, random_state):\n",
    "    # Split data\n",
    "    X_train, X_test, y_train, y_test = train_test_split(\n",
    "        X, y, train_size=train_size, random_state=random_state)\n",
    "    \n",
    "    # Scale features\n",
    "    scaler = StandardScaler()\n",
    "    X_train_scaled = scaler.fit_transform(X_train)\n",
    "    X_test_scaled = scaler.transform(X_test)\n",
    "    \n",
    "    # Initialize cross-validation\n",
    "    kf = KFold(n_splits=5, shuffle=True, random_state=random_state)\n",
    "    \n",
    "    # Perform RandomizedSearchCV\n",
    "    rf = RandomForestClassifier(random_state=random_state)\n",
    "    rf_random = RandomizedSearchCV(\n",
    "        estimator=rf,\n",
    "        param_distributions=param_dist,\n",
    "        n_iter=20,\n",
    "        cv=kf,\n",
    "        random_state=random_state,\n",
    "        n_jobs=-1\n",
    "    )\n",
    "    \n",
    "    # Fit the model\n",
    "    rf_random.fit(X_train_scaled, y_train)\n",
    "    \n",
    "    # Get scores\n",
    "    train_score = rf_random.score(X_train_scaled, y_train)\n",
    "    test_score = rf_random.score(X_test_scaled, y_test)\n",
    "    val_scores = cross_val_score(rf_random.best_estimator_, X_train_scaled, y_train, cv=kf)\n",
    "    \n",
    "    return {\n",
    "        'train_score': train_score,\n",
    "        'validation_score': mean(val_scores),\n",
    "        'test_score': test_score,\n",
    "        'best_params': rf_random.best_params_\n",
    "    }"
   ]
  },
  {
   "cell_type": "code",
   "execution_count": 14,
   "metadata": {},
   "outputs": [
    {
     "name": "stdout",
     "output_type": "stream",
     "text": [
      "\n",
      "Running experiments for 20/80 split\n",
      "Trial 1/3...\n",
      "Trial 2/3...\n",
      "Trial 3/3...\n",
      "\n",
      "Running experiments for 50/50 split\n",
      "Trial 1/3...\n",
      "Trial 2/3...\n",
      "Trial 3/3...\n",
      "\n",
      "Running experiments for 80/20 split\n",
      "Trial 1/3...\n",
      "Trial 2/3...\n",
      "Trial 3/3...\n",
      "\n",
      "Results for 20/80 split:\n",
      "Average Training Score: 0.9325 ± 0.0091\n",
      "Average Validation Score: 0.9304 ± 0.0079\n",
      "Average Test Score: 0.9293 ± 0.0091\n",
      "\n",
      "Results for 50/50 split:\n",
      "Average Training Score: 0.9328 ± 0.0107\n",
      "Average Validation Score: 0.9301 ± 0.0109\n",
      "Average Test Score: 0.9311 ± 0.0099\n",
      "\n",
      "Results for 80/20 split:\n",
      "Average Training Score: 0.9300 ± 0.0091\n",
      "Average Validation Score: 0.9306 ± 0.0087\n",
      "Average Test Score: 0.9298 ± 0.0088\n"
     ]
    }
   ],
   "source": [
    "# Run experiments for each partition ratio\n",
    "results = {}\n",
    "for train_size, test_size in partition_ratios:\n",
    "    ratio_results = []\n",
    "    print(f\"\\nRunning experiments for {train_size*100:.0f}/{test_size*100:.0f} split\")\n",
    "    \n",
    "    for trial in range(3):\n",
    "        print(f\"Trial {trial + 1}/3...\")\n",
    "        trial_results = run_trial(X, y, train_size, random_state=42+trial)\n",
    "        ratio_results.append(trial_results)\n",
    "    \n",
    "    # Calculate averages\n",
    "    avg_results = {\n",
    "        'avg_train_score': mean([r['train_score'] for r in ratio_results]),\n",
    "        'avg_validation_score': mean([r['validation_score'] for r in ratio_results]),\n",
    "        'avg_test_score': mean([r['test_score'] for r in ratio_results]),\n",
    "        'std_train_score': stdev([r['train_score'] for r in ratio_results]),\n",
    "        'std_validation_score': stdev([r['validation_score'] for r in ratio_results]),\n",
    "        'std_test_score': stdev([r['test_score'] for r in ratio_results]),\n",
    "        'individual_trials': ratio_results\n",
    "    }\n",
    "    \n",
    "    results[f\"{train_size*100:.0f}/{test_size*100:.0f}\"] = avg_results\n",
    "\n",
    "# Print results\n",
    "for split, res in results.items():\n",
    "    print(f\"\\nResults for {split} split:\")\n",
    "    print(f\"Average Training Score: {res['avg_train_score']:.4f} ± {res['std_train_score']:.4f}\")\n",
    "    print(f\"Average Validation Score: {res['avg_validation_score']:.4f} ± {res['std_validation_score']:.4f}\")\n",
    "    print(f\"Average Test Score: {res['avg_test_score']:.4f} ± {res['std_test_score']:.4f}\")"
   ]
  },
  {
   "cell_type": "code",
   "execution_count": 17,
   "metadata": {},
   "outputs": [],
   "source": []
  },
  {
   "cell_type": "code",
   "execution_count": null,
   "metadata": {},
   "outputs": [],
   "source": []
  },
  {
   "cell_type": "code",
   "execution_count": null,
   "metadata": {},
   "outputs": [],
   "source": []
  }
 ],
 "metadata": {
  "kernelspec": {
   "display_name": "Python 3",
   "language": "python",
   "name": "python3"
  },
  "language_info": {
   "codemirror_mode": {
    "name": "ipython",
    "version": 3
   },
   "file_extension": ".py",
   "mimetype": "text/x-python",
   "name": "python",
   "nbconvert_exporter": "python",
   "pygments_lexer": "ipython3",
   "version": "3.12.4"
  }
 },
 "nbformat": 4,
 "nbformat_minor": 2
}
